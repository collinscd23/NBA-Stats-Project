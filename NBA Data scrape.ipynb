{
 "cells": [
  {
   "cell_type": "code",
   "execution_count": null,
   "metadata": {},
   "outputs": [],
   "source": [
    "import pandas as pd\n",
    "import requests \n",
    "pd.set_option('display.max_columns', None) #see all data in a wide dataFrame\n",
    "import time\n",
    "import numpy as np"
   ]
  },
  {
   "cell_type": "code",
   "execution_count": null,
   "metadata": {},
   "outputs": [],
   "source": [
    "test_url = 'https://stats.nba.com/stats/leagueLeaders?LeagueID=00&PerMode=PerGame&Scope=S&Season=2010-11&SeasonType=Regular%20Season&StatCategory=PTS'"
   ]
  },
  {
   "cell_type": "code",
   "execution_count": null,
   "metadata": {},
   "outputs": [],
   "source": [
    "r = requests.get(url=test_url).json()\n"
   ]
  },
  {
   "cell_type": "code",
   "execution_count": null,
   "metadata": {},
   "outputs": [],
   "source": [
    "# Extracting headers from the API response and creating a DataFrame from the data\n",
    "table_headers = r['resultSet']['headers']"
   ]
  },
  {
   "cell_type": "code",
   "execution_count": null,
   "metadata": {},
   "outputs": [],
   "source": [
    "\n",
    "pd.DataFrame(r['resultSet']['rowSet'], columns=table_headers)"
   ]
  },
  {
   "cell_type": "code",
   "execution_count": null,
   "metadata": {},
   "outputs": [],
   "source": [
    "# Creating temporary DataFrames from the API response\n",
    "# Creating a DataFrame with repetitive 'Year' and 'Season_type' data for merging later\n",
    "temp_df1 = pd.DataFrame(r['resultSet']['rowSet'], columns=table_headers)\n",
    "temp_df2 = pd.DataFrame({'Year':['2010-11'for i in range(len(temp_df1))],\n",
    "                         'Season_type':['Regular%20Season'for i in range(len(temp_df1))]})\n",
    "temp_df3 = pd.concat([temp_df2, temp_df1], axis=1)\n",
    "temp_df3"
   ]
  },
  {
   "cell_type": "code",
   "execution_count": null,
   "metadata": {},
   "outputs": [],
   "source": [
    "del temp_df1, temp_df2, temp_df3"
   ]
  },
  {
   "cell_type": "code",
   "execution_count": null,
   "metadata": {},
   "outputs": [],
   "source": [
    "df_cols = ['Year', 'Season_type'] + table_headers"
   ]
  },
  {
   "cell_type": "code",
   "execution_count": null,
   "metadata": {},
   "outputs": [],
   "source": [
    "# Creating an empty DataFrame with predefined column names\n",
    "pd.DataFrame(columns=df_cols)"
   ]
  },
  {
   "cell_type": "code",
   "execution_count": null,
   "metadata": {},
   "outputs": [],
   "source": [
    "headers = {\n",
    "    'Accept':'*/*',\n",
    "    'Accept-Encoding':'gzip, deflate, br',\n",
    "    'Accept-Language':'en-US,en;q=0.9',\n",
    "    'Origin':'https://www.nba.com',\n",
    "    'Referer':'https://www.nba.com/',\n",
    "    'Sec-Ch-Ua':'\"Microsoft Edge\";v=\"117\", \"Not;A=Brand\";v=\"8\", \"Chromium\";v=\"117\"',\n",
    "    'Sec-Ch-Ua-Mobile':'?0',\n",
    "    'Sec-Ch-Ua-Platform':'\"Windows\"',\n",
    "    'Sec-Fetch-Dest':'empty',\n",
    "    'Sec-Fetch-Mode':'cors',\n",
    "    'Sec-Fetch-Site':'same-site',\n",
    "    'User-Agent':'Mozilla/5.0 (Windows NT 10.0; Win64; x64) AppleWebKit/537.36 (KHTML, like Gecko) Chrome/117.0.0.0 Safari/537.36 Edg/117.0.2045.60'\n",
    "}"
   ]
  },
  {
   "cell_type": "code",
   "execution_count": null,
   "metadata": {},
   "outputs": [],
   "source": [
    "# Defining lists of seasons and years for data scraping\n",
    "df = pd.DataFrame(columns=df_cols)\n",
    "season_types = ['Regular%20Season', 'Playoffs']\n",
    "years = ['2010-11', '2011-12', '2012-13', '2013-14','2014-15','2015-16','2016-17','2017-18','2018-19','2019-20','2020-21','2021-22','2022-23']\n",
    "\n",
    "begin_loop = time.time()\n",
    "\n",
    "# Looping over each year and season type\n",
    "# Making an API request and converting the response to JSON\n",
    "# Creating a DataFrame from the API response\n",
    "# Creating a DataFrame with current year and season type\n",
    "# Concatenating the year/season DataFrame with the data DataFrame\n",
    "for y in years:\n",
    "    for s in season_types:\n",
    "        api_url = 'https://stats.nba.com/stats/leagueLeaders?LeagueID=00&PerMode=PerGame&Scope=S&Season='+y+'&SeasonType='+s+'&StatCategory=PTS'\n",
    "        r = requests.get(url=api_url).json()\n",
    "        temp_df1 = pd.DataFrame(r['resultSet']['rowSet'], columns=table_headers)\n",
    "        temp_df2 = pd.DataFrame({'Year':[y for i in range(len(temp_df1))],\n",
    "                                'Season_type':[s for i in range(len(temp_df1))]})\n",
    "        temp_df3 = pd.concat([temp_df2, temp_df1], axis=1)\n",
    "        df = pd.concat([df, temp_df3], axis=0)\n",
    "        print(f'Finsihed scarping data for the {y} {s}.')\n",
    "        lag = np.random.uniform(low=5,high = 40)\n",
    "        print(f'...waiting {round(lag, 1)} secounds')\n",
    "        time.sleep(lag)\n",
    "print(f'Process Completed. Total run time: {round((time.time()-begin_loop)/60,2)}') \n",
    "df.to_csv('NBA_player_data.csv', index=False)\n",
    "\n",
    "\n"
   ]
  }
 ],
 "metadata": {
  "kernelspec": {
   "display_name": "stat386",
   "language": "python",
   "name": "python3"
  },
  "language_info": {
   "codemirror_mode": {
    "name": "ipython",
    "version": 3
   },
   "file_extension": ".py",
   "mimetype": "text/x-python",
   "name": "python",
   "nbconvert_exporter": "python",
   "pygments_lexer": "ipython3",
   "version": "3.10.12"
  }
 },
 "nbformat": 4,
 "nbformat_minor": 2
}
